{
  "nbformat": 4,
  "nbformat_minor": 0,
  "metadata": {
    "colab": {
      "provenance": [],
      "authorship_tag": "ABX9TyOWNNgPZwrqT4B8iOrw7+Ds",
      "include_colab_link": true
    },
    "kernelspec": {
      "name": "python3",
      "display_name": "Python 3"
    },
    "language_info": {
      "name": "python"
    }
  },
  "cells": [
    {
      "cell_type": "markdown",
      "metadata": {
        "id": "view-in-github",
        "colab_type": "text"
      },
      "source": [
        "<a href=\"https://colab.research.google.com/github/Jelli36/Fake-News-Prediction/blob/main/Fake_News_Prediction.ipynb\" target=\"_parent\"><img src=\"https://colab.research.google.com/assets/colab-badge.svg\" alt=\"Open In Colab\"/></a>"
      ]
    },
    {
      "cell_type": "code",
      "execution_count": null,
      "metadata": {
        "id": "bpiRGUQwoE3X"
      },
      "outputs": [],
      "source": [
        "import os\n",
        "import re\n",
        "import numpy as np\n",
        "import pandas as pd\n",
        "import seaborn as sns\n",
        "import matplotlib.pyplot as plt\n",
        "import seaborn as sns\n",
        "from joblib import dump, load\n",
        "import PIL\n",
        "import math\n",
        "from sklearn.ensemble import RandomForestClassifier\n",
        "from sklearn.neighbors import KNeighborsClassifier\n",
        "from sklearn.metrics import accuracy_score, classification_report, confusion_matrix\n",
        "from sklearn.model_selection import train_test_split\n",
        "from sklearn import linear_model, naive_bayes, ensemble, tree, svm, model_selection,\\\n",
        "                    preprocessing, feature_extraction, metrics, base, pipeline\n",
        "from sklearn.metrics import classification_report, confusion_matrix, accuracy_score\n",
        "from sklearn.linear_model import LinearRegression, LogisticRegression\n",
        "from sklearn.preprocessing import StandardScaler, LabelEncoder\n",
        "from sklearn.model_selection import KFold, cross_val_score\n",
        "from sklearn.feature_extraction.text import TfidfVectorizer"
      ]
    },
    {
      "cell_type": "code",
      "source": [
        "from google.colab import drive\n",
        "drive.mount('/content/drive')"
      ],
      "metadata": {
        "colab": {
          "base_uri": "https://localhost:8080/"
        },
        "id": "aOxTb8z9pCEq",
        "outputId": "1bf55c15-a477-400e-fe36-34390d8df95d"
      },
      "execution_count": null,
      "outputs": [
        {
          "output_type": "stream",
          "name": "stdout",
          "text": [
            "Drive already mounted at /content/drive; to attempt to forcibly remount, call drive.mount(\"/content/drive\", force_remount=True).\n"
          ]
        }
      ]
    },
    {
      "cell_type": "code",
      "source": [
        "df = pd.read_csv(\"/content/drive/MyDrive/Colab Notebooks/ML/train (2).csv\", delimiter= ';')\n",
        "display(df)"
      ],
      "metadata": {
        "colab": {
          "base_uri": "https://localhost:8080/",
          "height": 615
        },
        "id": "SYqds4WkpDwp",
        "outputId": "b759dce6-364e-4265-ed3e-8ca17490ce6a"
      },
      "execution_count": null,
      "outputs": [
        {
          "output_type": "display_data",
          "data": {
            "text/plain": [
              "       Unnamed: 0                                              title  \\\n",
              "0               0  Palestinians switch off Christmas lights in Be...   \n",
              "1               1  China says Trump call with Taiwan president wo...   \n",
              "2               2   FAIL! The Trump Organization’s Credit Score W...   \n",
              "3               3  Zimbabwe military chief's China trip was norma...   \n",
              "4               4  THE MOST UNCOURAGEOUS PRESIDENT EVER Receives ...   \n",
              "...           ...                                                ...   \n",
              "24348       24348  Mexico Senate committee OK's air transport dea...   \n",
              "24349       24349  BREAKING: HILLARY CLINTON’S STATE DEPARTMENT G...   \n",
              "24350       24350  trump breaks from stump speech to admire beaut...   \n",
              "24351       24351  NFL PLAYER Delivers Courageous Message: Stop B...   \n",
              "24352       24352  NORDSTROM STOCK TAKES NOSEDIVE After Trump Twe...   \n",
              "\n",
              "                                                    text  label  \n",
              "0      RAMALLAH, West Bank (Reuters) - Palestinians s...      1  \n",
              "1      BEIJING (Reuters) - U.S. President-elect Donal...      1  \n",
              "2      While the controversy over Trump s personal ta...      0  \n",
              "3      BEIJING (Reuters) - A trip to Beijing last wee...      1  \n",
              "4      There has never been a more UNCOURAGEOUS perso...      0  \n",
              "...                                                  ...    ...  \n",
              "24348  MEXICO CITY (Reuters) - A key committee in Mex...      1  \n",
              "24349  IF SHE S NOT TOAST NOW THEN WE RE IN BIGGER TR...      0  \n",
              "24350  kremlin nato was created for agression  \\nruss...      0  \n",
              "24351  Dallas Cowboys star wide receiver Dez Bryant t...      0  \n",
              "24352  UPDATE: Nordstrom stock closed up slightly tod...      0  \n",
              "\n",
              "[24353 rows x 4 columns]"
            ],
            "text/html": [
              "\n",
              "  <div id=\"df-c947f887-31c9-4562-9a38-7bc3e575bb70\" class=\"colab-df-container\">\n",
              "    <div>\n",
              "<style scoped>\n",
              "    .dataframe tbody tr th:only-of-type {\n",
              "        vertical-align: middle;\n",
              "    }\n",
              "\n",
              "    .dataframe tbody tr th {\n",
              "        vertical-align: top;\n",
              "    }\n",
              "\n",
              "    .dataframe thead th {\n",
              "        text-align: right;\n",
              "    }\n",
              "</style>\n",
              "<table border=\"1\" class=\"dataframe\">\n",
              "  <thead>\n",
              "    <tr style=\"text-align: right;\">\n",
              "      <th></th>\n",
              "      <th>Unnamed: 0</th>\n",
              "      <th>title</th>\n",
              "      <th>text</th>\n",
              "      <th>label</th>\n",
              "    </tr>\n",
              "  </thead>\n",
              "  <tbody>\n",
              "    <tr>\n",
              "      <th>0</th>\n",
              "      <td>0</td>\n",
              "      <td>Palestinians switch off Christmas lights in Be...</td>\n",
              "      <td>RAMALLAH, West Bank (Reuters) - Palestinians s...</td>\n",
              "      <td>1</td>\n",
              "    </tr>\n",
              "    <tr>\n",
              "      <th>1</th>\n",
              "      <td>1</td>\n",
              "      <td>China says Trump call with Taiwan president wo...</td>\n",
              "      <td>BEIJING (Reuters) - U.S. President-elect Donal...</td>\n",
              "      <td>1</td>\n",
              "    </tr>\n",
              "    <tr>\n",
              "      <th>2</th>\n",
              "      <td>2</td>\n",
              "      <td>FAIL! The Trump Organization’s Credit Score W...</td>\n",
              "      <td>While the controversy over Trump s personal ta...</td>\n",
              "      <td>0</td>\n",
              "    </tr>\n",
              "    <tr>\n",
              "      <th>3</th>\n",
              "      <td>3</td>\n",
              "      <td>Zimbabwe military chief's China trip was norma...</td>\n",
              "      <td>BEIJING (Reuters) - A trip to Beijing last wee...</td>\n",
              "      <td>1</td>\n",
              "    </tr>\n",
              "    <tr>\n",
              "      <th>4</th>\n",
              "      <td>4</td>\n",
              "      <td>THE MOST UNCOURAGEOUS PRESIDENT EVER Receives ...</td>\n",
              "      <td>There has never been a more UNCOURAGEOUS perso...</td>\n",
              "      <td>0</td>\n",
              "    </tr>\n",
              "    <tr>\n",
              "      <th>...</th>\n",
              "      <td>...</td>\n",
              "      <td>...</td>\n",
              "      <td>...</td>\n",
              "      <td>...</td>\n",
              "    </tr>\n",
              "    <tr>\n",
              "      <th>24348</th>\n",
              "      <td>24348</td>\n",
              "      <td>Mexico Senate committee OK's air transport dea...</td>\n",
              "      <td>MEXICO CITY (Reuters) - A key committee in Mex...</td>\n",
              "      <td>1</td>\n",
              "    </tr>\n",
              "    <tr>\n",
              "      <th>24349</th>\n",
              "      <td>24349</td>\n",
              "      <td>BREAKING: HILLARY CLINTON’S STATE DEPARTMENT G...</td>\n",
              "      <td>IF SHE S NOT TOAST NOW THEN WE RE IN BIGGER TR...</td>\n",
              "      <td>0</td>\n",
              "    </tr>\n",
              "    <tr>\n",
              "      <th>24350</th>\n",
              "      <td>24350</td>\n",
              "      <td>trump breaks from stump speech to admire beaut...</td>\n",
              "      <td>kremlin nato was created for agression  \\nruss...</td>\n",
              "      <td>0</td>\n",
              "    </tr>\n",
              "    <tr>\n",
              "      <th>24351</th>\n",
              "      <td>24351</td>\n",
              "      <td>NFL PLAYER Delivers Courageous Message: Stop B...</td>\n",
              "      <td>Dallas Cowboys star wide receiver Dez Bryant t...</td>\n",
              "      <td>0</td>\n",
              "    </tr>\n",
              "    <tr>\n",
              "      <th>24352</th>\n",
              "      <td>24352</td>\n",
              "      <td>NORDSTROM STOCK TAKES NOSEDIVE After Trump Twe...</td>\n",
              "      <td>UPDATE: Nordstrom stock closed up slightly tod...</td>\n",
              "      <td>0</td>\n",
              "    </tr>\n",
              "  </tbody>\n",
              "</table>\n",
              "<p>24353 rows × 4 columns</p>\n",
              "</div>\n",
              "    <div class=\"colab-df-buttons\">\n",
              "\n",
              "  <div class=\"colab-df-container\">\n",
              "    <button class=\"colab-df-convert\" onclick=\"convertToInteractive('df-c947f887-31c9-4562-9a38-7bc3e575bb70')\"\n",
              "            title=\"Convert this dataframe to an interactive table.\"\n",
              "            style=\"display:none;\">\n",
              "\n",
              "  <svg xmlns=\"http://www.w3.org/2000/svg\" height=\"24px\" viewBox=\"0 -960 960 960\">\n",
              "    <path d=\"M120-120v-720h720v720H120Zm60-500h600v-160H180v160Zm220 220h160v-160H400v160Zm0 220h160v-160H400v160ZM180-400h160v-160H180v160Zm440 0h160v-160H620v160ZM180-180h160v-160H180v160Zm440 0h160v-160H620v160Z\"/>\n",
              "  </svg>\n",
              "    </button>\n",
              "\n",
              "  <style>\n",
              "    .colab-df-container {\n",
              "      display:flex;\n",
              "      gap: 12px;\n",
              "    }\n",
              "\n",
              "    .colab-df-convert {\n",
              "      background-color: #E8F0FE;\n",
              "      border: none;\n",
              "      border-radius: 50%;\n",
              "      cursor: pointer;\n",
              "      display: none;\n",
              "      fill: #1967D2;\n",
              "      height: 32px;\n",
              "      padding: 0 0 0 0;\n",
              "      width: 32px;\n",
              "    }\n",
              "\n",
              "    .colab-df-convert:hover {\n",
              "      background-color: #E2EBFA;\n",
              "      box-shadow: 0px 1px 2px rgba(60, 64, 67, 0.3), 0px 1px 3px 1px rgba(60, 64, 67, 0.15);\n",
              "      fill: #174EA6;\n",
              "    }\n",
              "\n",
              "    .colab-df-buttons div {\n",
              "      margin-bottom: 4px;\n",
              "    }\n",
              "\n",
              "    [theme=dark] .colab-df-convert {\n",
              "      background-color: #3B4455;\n",
              "      fill: #D2E3FC;\n",
              "    }\n",
              "\n",
              "    [theme=dark] .colab-df-convert:hover {\n",
              "      background-color: #434B5C;\n",
              "      box-shadow: 0px 1px 3px 1px rgba(0, 0, 0, 0.15);\n",
              "      filter: drop-shadow(0px 1px 2px rgba(0, 0, 0, 0.3));\n",
              "      fill: #FFFFFF;\n",
              "    }\n",
              "  </style>\n",
              "\n",
              "    <script>\n",
              "      const buttonEl =\n",
              "        document.querySelector('#df-c947f887-31c9-4562-9a38-7bc3e575bb70 button.colab-df-convert');\n",
              "      buttonEl.style.display =\n",
              "        google.colab.kernel.accessAllowed ? 'block' : 'none';\n",
              "\n",
              "      async function convertToInteractive(key) {\n",
              "        const element = document.querySelector('#df-c947f887-31c9-4562-9a38-7bc3e575bb70');\n",
              "        const dataTable =\n",
              "          await google.colab.kernel.invokeFunction('convertToInteractive',\n",
              "                                                    [key], {});\n",
              "        if (!dataTable) return;\n",
              "\n",
              "        const docLinkHtml = 'Like what you see? Visit the ' +\n",
              "          '<a target=\"_blank\" href=https://colab.research.google.com/notebooks/data_table.ipynb>data table notebook</a>'\n",
              "          + ' to learn more about interactive tables.';\n",
              "        element.innerHTML = '';\n",
              "        dataTable['output_type'] = 'display_data';\n",
              "        await google.colab.output.renderOutput(dataTable, element);\n",
              "        const docLink = document.createElement('div');\n",
              "        docLink.innerHTML = docLinkHtml;\n",
              "        element.appendChild(docLink);\n",
              "      }\n",
              "    </script>\n",
              "  </div>\n",
              "\n",
              "\n",
              "<div id=\"df-4a8de4e4-6e47-4ab6-9e50-26a9c0fa132e\">\n",
              "  <button class=\"colab-df-quickchart\" onclick=\"quickchart('df-4a8de4e4-6e47-4ab6-9e50-26a9c0fa132e')\"\n",
              "            title=\"Suggest charts\"\n",
              "            style=\"display:none;\">\n",
              "\n",
              "<svg xmlns=\"http://www.w3.org/2000/svg\" height=\"24px\"viewBox=\"0 0 24 24\"\n",
              "     width=\"24px\">\n",
              "    <g>\n",
              "        <path d=\"M19 3H5c-1.1 0-2 .9-2 2v14c0 1.1.9 2 2 2h14c1.1 0 2-.9 2-2V5c0-1.1-.9-2-2-2zM9 17H7v-7h2v7zm4 0h-2V7h2v10zm4 0h-2v-4h2v4z\"/>\n",
              "    </g>\n",
              "</svg>\n",
              "  </button>\n",
              "\n",
              "<style>\n",
              "  .colab-df-quickchart {\n",
              "      --bg-color: #E8F0FE;\n",
              "      --fill-color: #1967D2;\n",
              "      --hover-bg-color: #E2EBFA;\n",
              "      --hover-fill-color: #174EA6;\n",
              "      --disabled-fill-color: #AAA;\n",
              "      --disabled-bg-color: #DDD;\n",
              "  }\n",
              "\n",
              "  [theme=dark] .colab-df-quickchart {\n",
              "      --bg-color: #3B4455;\n",
              "      --fill-color: #D2E3FC;\n",
              "      --hover-bg-color: #434B5C;\n",
              "      --hover-fill-color: #FFFFFF;\n",
              "      --disabled-bg-color: #3B4455;\n",
              "      --disabled-fill-color: #666;\n",
              "  }\n",
              "\n",
              "  .colab-df-quickchart {\n",
              "    background-color: var(--bg-color);\n",
              "    border: none;\n",
              "    border-radius: 50%;\n",
              "    cursor: pointer;\n",
              "    display: none;\n",
              "    fill: var(--fill-color);\n",
              "    height: 32px;\n",
              "    padding: 0;\n",
              "    width: 32px;\n",
              "  }\n",
              "\n",
              "  .colab-df-quickchart:hover {\n",
              "    background-color: var(--hover-bg-color);\n",
              "    box-shadow: 0 1px 2px rgba(60, 64, 67, 0.3), 0 1px 3px 1px rgba(60, 64, 67, 0.15);\n",
              "    fill: var(--button-hover-fill-color);\n",
              "  }\n",
              "\n",
              "  .colab-df-quickchart-complete:disabled,\n",
              "  .colab-df-quickchart-complete:disabled:hover {\n",
              "    background-color: var(--disabled-bg-color);\n",
              "    fill: var(--disabled-fill-color);\n",
              "    box-shadow: none;\n",
              "  }\n",
              "\n",
              "  .colab-df-spinner {\n",
              "    border: 2px solid var(--fill-color);\n",
              "    border-color: transparent;\n",
              "    border-bottom-color: var(--fill-color);\n",
              "    animation:\n",
              "      spin 1s steps(1) infinite;\n",
              "  }\n",
              "\n",
              "  @keyframes spin {\n",
              "    0% {\n",
              "      border-color: transparent;\n",
              "      border-bottom-color: var(--fill-color);\n",
              "      border-left-color: var(--fill-color);\n",
              "    }\n",
              "    20% {\n",
              "      border-color: transparent;\n",
              "      border-left-color: var(--fill-color);\n",
              "      border-top-color: var(--fill-color);\n",
              "    }\n",
              "    30% {\n",
              "      border-color: transparent;\n",
              "      border-left-color: var(--fill-color);\n",
              "      border-top-color: var(--fill-color);\n",
              "      border-right-color: var(--fill-color);\n",
              "    }\n",
              "    40% {\n",
              "      border-color: transparent;\n",
              "      border-right-color: var(--fill-color);\n",
              "      border-top-color: var(--fill-color);\n",
              "    }\n",
              "    60% {\n",
              "      border-color: transparent;\n",
              "      border-right-color: var(--fill-color);\n",
              "    }\n",
              "    80% {\n",
              "      border-color: transparent;\n",
              "      border-right-color: var(--fill-color);\n",
              "      border-bottom-color: var(--fill-color);\n",
              "    }\n",
              "    90% {\n",
              "      border-color: transparent;\n",
              "      border-bottom-color: var(--fill-color);\n",
              "    }\n",
              "  }\n",
              "</style>\n",
              "\n",
              "  <script>\n",
              "    async function quickchart(key) {\n",
              "      const quickchartButtonEl =\n",
              "        document.querySelector('#' + key + ' button');\n",
              "      quickchartButtonEl.disabled = true;  // To prevent multiple clicks.\n",
              "      quickchartButtonEl.classList.add('colab-df-spinner');\n",
              "      try {\n",
              "        const charts = await google.colab.kernel.invokeFunction(\n",
              "            'suggestCharts', [key], {});\n",
              "      } catch (error) {\n",
              "        console.error('Error during call to suggestCharts:', error);\n",
              "      }\n",
              "      quickchartButtonEl.classList.remove('colab-df-spinner');\n",
              "      quickchartButtonEl.classList.add('colab-df-quickchart-complete');\n",
              "    }\n",
              "    (() => {\n",
              "      let quickchartButtonEl =\n",
              "        document.querySelector('#df-4a8de4e4-6e47-4ab6-9e50-26a9c0fa132e button');\n",
              "      quickchartButtonEl.style.display =\n",
              "        google.colab.kernel.accessAllowed ? 'block' : 'none';\n",
              "    })();\n",
              "  </script>\n",
              "</div>\n",
              "\n",
              "  <div id=\"id_8c50b1e4-a12c-4e87-8f52-593a21109a5b\">\n",
              "    <style>\n",
              "      .colab-df-generate {\n",
              "        background-color: #E8F0FE;\n",
              "        border: none;\n",
              "        border-radius: 50%;\n",
              "        cursor: pointer;\n",
              "        display: none;\n",
              "        fill: #1967D2;\n",
              "        height: 32px;\n",
              "        padding: 0 0 0 0;\n",
              "        width: 32px;\n",
              "      }\n",
              "\n",
              "      .colab-df-generate:hover {\n",
              "        background-color: #E2EBFA;\n",
              "        box-shadow: 0px 1px 2px rgba(60, 64, 67, 0.3), 0px 1px 3px 1px rgba(60, 64, 67, 0.15);\n",
              "        fill: #174EA6;\n",
              "      }\n",
              "\n",
              "      [theme=dark] .colab-df-generate {\n",
              "        background-color: #3B4455;\n",
              "        fill: #D2E3FC;\n",
              "      }\n",
              "\n",
              "      [theme=dark] .colab-df-generate:hover {\n",
              "        background-color: #434B5C;\n",
              "        box-shadow: 0px 1px 3px 1px rgba(0, 0, 0, 0.15);\n",
              "        filter: drop-shadow(0px 1px 2px rgba(0, 0, 0, 0.3));\n",
              "        fill: #FFFFFF;\n",
              "      }\n",
              "    </style>\n",
              "    <button class=\"colab-df-generate\" onclick=\"generateWithVariable('df')\"\n",
              "            title=\"Generate code using this dataframe.\"\n",
              "            style=\"display:none;\">\n",
              "\n",
              "  <svg xmlns=\"http://www.w3.org/2000/svg\" height=\"24px\"viewBox=\"0 0 24 24\"\n",
              "       width=\"24px\">\n",
              "    <path d=\"M7,19H8.4L18.45,9,17,7.55,7,17.6ZM5,21V16.75L18.45,3.32a2,2,0,0,1,2.83,0l1.4,1.43a1.91,1.91,0,0,1,.58,1.4,1.91,1.91,0,0,1-.58,1.4L9.25,21ZM18.45,9,17,7.55Zm-12,3A5.31,5.31,0,0,0,4.9,8.1,5.31,5.31,0,0,0,1,6.5,5.31,5.31,0,0,0,4.9,4.9,5.31,5.31,0,0,0,6.5,1,5.31,5.31,0,0,0,8.1,4.9,5.31,5.31,0,0,0,12,6.5,5.46,5.46,0,0,0,6.5,12Z\"/>\n",
              "  </svg>\n",
              "    </button>\n",
              "    <script>\n",
              "      (() => {\n",
              "      const buttonEl =\n",
              "        document.querySelector('#id_8c50b1e4-a12c-4e87-8f52-593a21109a5b button.colab-df-generate');\n",
              "      buttonEl.style.display =\n",
              "        google.colab.kernel.accessAllowed ? 'block' : 'none';\n",
              "\n",
              "      buttonEl.onclick = () => {\n",
              "        google.colab.notebook.generateWithVariable('df');\n",
              "      }\n",
              "      })();\n",
              "    </script>\n",
              "  </div>\n",
              "\n",
              "    </div>\n",
              "  </div>\n"
            ],
            "application/vnd.google.colaboratory.intrinsic+json": {
              "type": "dataframe",
              "variable_name": "df",
              "summary": "{\n  \"name\": \"df\",\n  \"rows\": 24353,\n  \"fields\": [\n    {\n      \"column\": \"Unnamed: 0\",\n      \"properties\": {\n        \"dtype\": \"number\",\n        \"std\": 7030,\n        \"min\": 0,\n        \"max\": 24352,\n        \"num_unique_values\": 24353,\n        \"samples\": [\n          2579,\n          13868,\n          13020\n        ],\n        \"semantic_type\": \"\",\n        \"description\": \"\"\n      }\n    },\n    {\n      \"column\": \"title\",\n      \"properties\": {\n        \"dtype\": \"string\",\n        \"num_unique_values\": 24062,\n        \"samples\": [\n          \"Obama to sign Puerto Rico debt bill on Thursday: White House\",\n          \"EU: spot checks show confusion, not conspiracy in Kenyan election\",\n          \"Islamic State threatens U.S. attacks over Jerusalem decision: statement\"\n        ],\n        \"semantic_type\": \"\",\n        \"description\": \"\"\n      }\n    },\n    {\n      \"column\": \"text\",\n      \"properties\": {\n        \"dtype\": \"string\",\n        \"num_unique_values\": 24352,\n        \"samples\": [\n          \"Wake up Christians the left won t stop until they ve removed any mention of Christ in your church The Bishop of Stockholm has proposed a church in her diocese remove all signs of the cross and put down markings showing the direction to Mecca for the benefit of Muslim worshippers.Eva Brunne, who was made the world s first openly lesbian bishop by the church of Sweden in 2009, and has a young son with her wife and fellow lesbian priest Gunilla Linden, made the suggestion to make those of other faiths more welcome.The church targeted is the Seamen s mission church in Stockholm s eastern dockyards. The Bishop held a meeting there this year and challenged the priest to explain what he d do if a ship s crew came into port who weren t Christian but wanted to pray.Calling Muslim guests to the church  angels , the Bishop later took to her official blog to explain that removing Christian symbols from the church and preparing the building for Muslim prayer doesn t make a priest any less a defender of the faith. Rather, to do any less would make one  stingy towards people of other faiths .The bishop insisted this wasn t an issue, after all airports and hospitals already had multi-faith prayer rooms, and converting the dockyard church would only bring it up to speed. Regardless, the announcement has aroused protest.Father Patrik Pettersson, one of the priests in her diocese and active in the same parish as the Seaman s mission church has hit back in a blog of his own, complaining there is no way you could equate a consecrated church with a prayer room, remarking  I should have thought a bishop would be able to tell the difference .Calling the bishop s words  theologically unthinking , he asked what was to be done with crucifixes screwed to the walls, and heavy items such as baptismal fonts. Ignoring the rhetorical murmuring , Pettersson wrote:  The only argument bishop Eva really put forward in support of her view is  hospitality  How do you respond to that? Not much of a basis for discussion, as one colleague put it. The theological, ecclesiological, pastoral and working issues are left untouched .Via: Breitbart News\",\n          \"On Wednesday Barack Obama lashed out at CBS reporter Major Garrett after he asked him about the four Americans left behind to languish in Iranian prisons.Former Marine Amir Hekmati, Saeed Abedini and Vahid Salemi are being held in Iranian prisons. (Breitbart)Obama was defending his nuclear deal with Iran when Garrett asked him about the US hostages in Iran.https://youtu.be/rqdVAd25CHUObama: I got to give you credit Major for how you craft those questions. the notion that I m content as I celebrate with American citizens languishing in Iranian jails.   Major, that s nonsense and you should know better.Of course, that is exactly what he did. The Obama administration did nothing to free American hostages during their talks with the Iranian regime.Now we know  Obama released a top Iranian scientist as part of the deal but left the Americans to rot in hell in Iranian prisons. The Times of Israel reported:Mojtaba Atarodi, arrested in California for attempting to acquire equipment for Iran s military-nuclear programs, was released in April as part of back channel talks, Times of Israel told. The contacts, mediated in Oman for years by close colleague of the Sultan, have seen a series of US-Iran prisoner releases, and there may be more to come.The secret back channel of negotiations between Iran and the United States, which led to this month s interim deal in Geneva on Iran s rogue nuclear program, has also seen a series of prisoner releases by both sides, which have played a central role in bridging the distance between the two nations, the Times of Israel has been told.In the most dramatic of those releases, the US in April released a top Iranian scientist, Mojtaba Atarodi, who had been arrested in 2011 for attempting to acquire equipment that could be used for Iran s military-nuclear programs.No wonder he didn t want reporters talking about it!Via: Gateway Pundit\",\n          \"eu un secretarygeneral ban kimoon c meets with greek cypriot president nicos anastasiades l and mustafa akinci r the turkish cypriot leader at the un headquarters in new york september   photo by afp \\ncypriot political leaders have agreed to continue talks in switzerland next month in an attempt to reach an agreement on the reunification of the mediterranean island country the united nations un has announced \\na un spokesman aleem siddique made the announcement on wednesday saying greek cypriot president nicos anastasiades and turkish cypriot leader mustafa akinci will meet at mont pelerin near lake geneva from november  to  \\nsiddique said the two leaders in the presence of the un envoy for cyprus will concentrate their talks on how much territory each side will administer under an envisioned federation and will discuss all other outstanding issues too \\nthe leaders have expressed hope that the switzerland meeting will pave the way for the last phase of talks in line with their shared commitment to do their utmost in order to reach a settlement within  the un spokesman said \\nnegotiations on reuniting the mediterranean island under a single federal roof have made significant headway since anastasiades and akinci resumed talks led by the un nearly  months ago \\nhowever important differences still remain on the question of territorial arrangements security and property rights \\nprevious unmediated talks to reunify the mediterranean island faced a deadlock in october  when turkey announced plans to search for oil and gas in waters off cyprus \\ncyprus has been divided since  after an intervention by turkey which came when a military coup was carried out by individuals who sought to unify the island with greece \\nnearly one decade later in  turkish cypriots declared an independent state which has only been recognized by ankara turkey has some  soldiers stationed in the north of that part of cyprus \\ncyprus has been a european union eu member since  but only the south enjoys full membership benefits loading\"\n        ],\n        \"semantic_type\": \"\",\n        \"description\": \"\"\n      }\n    },\n    {\n      \"column\": \"label\",\n      \"properties\": {\n        \"dtype\": \"number\",\n        \"std\": 0,\n        \"min\": 0,\n        \"max\": 1,\n        \"num_unique_values\": 2,\n        \"samples\": [\n          0,\n          1\n        ],\n        \"semantic_type\": \"\",\n        \"description\": \"\"\n      }\n    }\n  ]\n}"
            }
          },
          "metadata": {}
        }
      ]
    },
    {
      "cell_type": "code",
      "source": [
        "df.isnull().sum() # Check for null values"
      ],
      "metadata": {
        "colab": {
          "base_uri": "https://localhost:8080/",
          "height": 210
        },
        "id": "EOhtBnfksasb",
        "outputId": "1b541bc0-290f-4e58-ffb5-018cabfaf344"
      },
      "execution_count": null,
      "outputs": [
        {
          "output_type": "execute_result",
          "data": {
            "text/plain": [
              "Unnamed: 0    0\n",
              "title         0\n",
              "text          0\n",
              "label         0\n",
              "dtype: int64"
            ],
            "text/html": [
              "<div>\n",
              "<style scoped>\n",
              "    .dataframe tbody tr th:only-of-type {\n",
              "        vertical-align: middle;\n",
              "    }\n",
              "\n",
              "    .dataframe tbody tr th {\n",
              "        vertical-align: top;\n",
              "    }\n",
              "\n",
              "    .dataframe thead th {\n",
              "        text-align: right;\n",
              "    }\n",
              "</style>\n",
              "<table border=\"1\" class=\"dataframe\">\n",
              "  <thead>\n",
              "    <tr style=\"text-align: right;\">\n",
              "      <th></th>\n",
              "      <th>0</th>\n",
              "    </tr>\n",
              "  </thead>\n",
              "  <tbody>\n",
              "    <tr>\n",
              "      <th>Unnamed: 0</th>\n",
              "      <td>0</td>\n",
              "    </tr>\n",
              "    <tr>\n",
              "      <th>title</th>\n",
              "      <td>0</td>\n",
              "    </tr>\n",
              "    <tr>\n",
              "      <th>text</th>\n",
              "      <td>0</td>\n",
              "    </tr>\n",
              "    <tr>\n",
              "      <th>label</th>\n",
              "      <td>0</td>\n",
              "    </tr>\n",
              "  </tbody>\n",
              "</table>\n",
              "</div><br><label><b>dtype:</b> int64</label>"
            ]
          },
          "metadata": {},
          "execution_count": 85
        }
      ]
    },
    {
      "cell_type": "code",
      "source": [
        "# Check and drop duplicate values\n",
        "print(f\"Number of duplicates: {np.sum(df.duplicated())}\")\n",
        "\n",
        "df.drop_duplicates(inplace = True)\n",
        "\n",
        "print(f\"Number of duplicates after: {np.sum(df.duplicated())}\")"
      ],
      "metadata": {
        "colab": {
          "base_uri": "https://localhost:8080/"
        },
        "id": "NLQc9vetsgRp",
        "outputId": "d4159dc9-f4ea-4380-fefd-6c9be6c3e144"
      },
      "execution_count": null,
      "outputs": [
        {
          "output_type": "stream",
          "name": "stdout",
          "text": [
            "Number of duplicates: 0\n",
            "Number of duplicates after: 0\n"
          ]
        }
      ]
    },
    {
      "cell_type": "code",
      "source": [
        "df.drop(['Unnamed: 0'], axis = 1, inplace = True) # Drop index"
      ],
      "metadata": {
        "id": "Rc-0bQ5-pFah"
      },
      "execution_count": null,
      "outputs": []
    },
    {
      "cell_type": "code",
      "source": [
        "df.isnull().sum() # Check for null values"
      ],
      "metadata": {
        "colab": {
          "base_uri": "https://localhost:8080/",
          "height": 178
        },
        "id": "r7NQq1lYzM6I",
        "outputId": "1fd75a11-6d63-432c-cccb-ba0983d1d84e"
      },
      "execution_count": null,
      "outputs": [
        {
          "output_type": "execute_result",
          "data": {
            "text/plain": [
              "title    0\n",
              "text     0\n",
              "label    0\n",
              "dtype: int64"
            ],
            "text/html": [
              "<div>\n",
              "<style scoped>\n",
              "    .dataframe tbody tr th:only-of-type {\n",
              "        vertical-align: middle;\n",
              "    }\n",
              "\n",
              "    .dataframe tbody tr th {\n",
              "        vertical-align: top;\n",
              "    }\n",
              "\n",
              "    .dataframe thead th {\n",
              "        text-align: right;\n",
              "    }\n",
              "</style>\n",
              "<table border=\"1\" class=\"dataframe\">\n",
              "  <thead>\n",
              "    <tr style=\"text-align: right;\">\n",
              "      <th></th>\n",
              "      <th>0</th>\n",
              "    </tr>\n",
              "  </thead>\n",
              "  <tbody>\n",
              "    <tr>\n",
              "      <th>title</th>\n",
              "      <td>0</td>\n",
              "    </tr>\n",
              "    <tr>\n",
              "      <th>text</th>\n",
              "      <td>0</td>\n",
              "    </tr>\n",
              "    <tr>\n",
              "      <th>label</th>\n",
              "      <td>0</td>\n",
              "    </tr>\n",
              "  </tbody>\n",
              "</table>\n",
              "</div><br><label><b>dtype:</b> int64</label>"
            ]
          },
          "metadata": {},
          "execution_count": 88
        }
      ]
    },
    {
      "cell_type": "code",
      "source": [
        "df.isna().sum() # Check for na values"
      ],
      "metadata": {
        "id": "-ActKUU-zaPY",
        "outputId": "bb3a856d-b205-477f-fc2e-e053b07d2773",
        "colab": {
          "base_uri": "https://localhost:8080/",
          "height": 178
        }
      },
      "execution_count": null,
      "outputs": [
        {
          "output_type": "execute_result",
          "data": {
            "text/plain": [
              "title    0\n",
              "text     0\n",
              "label    0\n",
              "dtype: int64"
            ],
            "text/html": [
              "<div>\n",
              "<style scoped>\n",
              "    .dataframe tbody tr th:only-of-type {\n",
              "        vertical-align: middle;\n",
              "    }\n",
              "\n",
              "    .dataframe tbody tr th {\n",
              "        vertical-align: top;\n",
              "    }\n",
              "\n",
              "    .dataframe thead th {\n",
              "        text-align: right;\n",
              "    }\n",
              "</style>\n",
              "<table border=\"1\" class=\"dataframe\">\n",
              "  <thead>\n",
              "    <tr style=\"text-align: right;\">\n",
              "      <th></th>\n",
              "      <th>0</th>\n",
              "    </tr>\n",
              "  </thead>\n",
              "  <tbody>\n",
              "    <tr>\n",
              "      <th>title</th>\n",
              "      <td>0</td>\n",
              "    </tr>\n",
              "    <tr>\n",
              "      <th>text</th>\n",
              "      <td>0</td>\n",
              "    </tr>\n",
              "    <tr>\n",
              "      <th>label</th>\n",
              "      <td>0</td>\n",
              "    </tr>\n",
              "  </tbody>\n",
              "</table>\n",
              "</div><br><label><b>dtype:</b> int64</label>"
            ]
          },
          "metadata": {},
          "execution_count": 89
        }
      ]
    },
    {
      "cell_type": "code",
      "source": [
        "# Concatenate 'title' and 'text' into a single column called 'info'\n",
        "df['info'] = df['title']+' '+df['text']\n",
        "print(df['info'])"
      ],
      "metadata": {
        "colab": {
          "base_uri": "https://localhost:8080/"
        },
        "id": "AD3CsGfzszD0",
        "outputId": "bcad697b-b932-4ef5-aaa2-debac7a76078"
      },
      "execution_count": null,
      "outputs": [
        {
          "output_type": "stream",
          "name": "stdout",
          "text": [
            "0        Palestinians switch off Christmas lights in Be...\n",
            "1        China says Trump call with Taiwan president wo...\n",
            "2         FAIL! The Trump Organization’s Credit Score W...\n",
            "3        Zimbabwe military chief's China trip was norma...\n",
            "4        THE MOST UNCOURAGEOUS PRESIDENT EVER Receives ...\n",
            "                               ...                        \n",
            "24348    Mexico Senate committee OK's air transport dea...\n",
            "24349    BREAKING: HILLARY CLINTON’S STATE DEPARTMENT G...\n",
            "24350    trump breaks from stump speech to admire beaut...\n",
            "24351    NFL PLAYER Delivers Courageous Message: Stop B...\n",
            "24352    NORDSTROM STOCK TAKES NOSEDIVE After Trump Twe...\n",
            "Name: info, Length: 24353, dtype: object\n"
          ]
        }
      ]
    },
    {
      "cell_type": "code",
      "source": [
        "df.drop(['title','text'], axis = 1, inplace = True) # Drop columns since all values are already in df['info']"
      ],
      "metadata": {
        "id": "zhS-k-Afx0SH"
      },
      "execution_count": null,
      "outputs": []
    },
    {
      "cell_type": "code",
      "source": [
        "df['info'] = df['info'].str.replace(r'[^a-zA-Z0-9\\s]','', regex = True) # Remove special characters"
      ],
      "metadata": {
        "id": "Erm6wkqXshdx"
      },
      "execution_count": null,
      "outputs": []
    },
    {
      "cell_type": "code",
      "source": [
        "df['info'].isnull().sum() # Check for null values"
      ],
      "metadata": {
        "colab": {
          "base_uri": "https://localhost:8080/"
        },
        "id": "X595upqfxo3X",
        "outputId": "cfd44999-5314-4188-fa0c-c5d68d247b17"
      },
      "execution_count": null,
      "outputs": [
        {
          "output_type": "execute_result",
          "data": {
            "text/plain": [
              "0"
            ]
          },
          "metadata": {},
          "execution_count": 93
        }
      ]
    },
    {
      "cell_type": "code",
      "source": [
        "display(df)"
      ],
      "metadata": {
        "colab": {
          "base_uri": "https://localhost:8080/",
          "height": 424
        },
        "id": "Mw3OPRQIxt03",
        "outputId": "1730a63c-1897-4d47-e367-c11317d979f9"
      },
      "execution_count": null,
      "outputs": [
        {
          "output_type": "display_data",
          "data": {
            "text/plain": [
              "       label                                               info\n",
              "0          1  Palestinians switch off Christmas lights in Be...\n",
              "1          1  China says Trump call with Taiwan president wo...\n",
              "2          0   FAIL The Trump Organizations Credit Score Wil...\n",
              "3          1  Zimbabwe military chiefs China trip was normal...\n",
              "4          0  THE MOST UNCOURAGEOUS PRESIDENT EVER Receives ...\n",
              "...      ...                                                ...\n",
              "24348      1  Mexico Senate committee OKs air transport deal...\n",
              "24349      0  BREAKING HILLARY CLINTONS STATE DEPARTMENT GAV...\n",
              "24350      0  trump breaks from stump speech to admire beaut...\n",
              "24351      0  NFL PLAYER Delivers Courageous Message Stop Bl...\n",
              "24352      0  NORDSTROM STOCK TAKES NOSEDIVE After Trump Twe...\n",
              "\n",
              "[24353 rows x 2 columns]"
            ],
            "text/html": [
              "\n",
              "  <div id=\"df-222fd376-98b3-4141-ba54-583883cca4eb\" class=\"colab-df-container\">\n",
              "    <div>\n",
              "<style scoped>\n",
              "    .dataframe tbody tr th:only-of-type {\n",
              "        vertical-align: middle;\n",
              "    }\n",
              "\n",
              "    .dataframe tbody tr th {\n",
              "        vertical-align: top;\n",
              "    }\n",
              "\n",
              "    .dataframe thead th {\n",
              "        text-align: right;\n",
              "    }\n",
              "</style>\n",
              "<table border=\"1\" class=\"dataframe\">\n",
              "  <thead>\n",
              "    <tr style=\"text-align: right;\">\n",
              "      <th></th>\n",
              "      <th>label</th>\n",
              "      <th>info</th>\n",
              "    </tr>\n",
              "  </thead>\n",
              "  <tbody>\n",
              "    <tr>\n",
              "      <th>0</th>\n",
              "      <td>1</td>\n",
              "      <td>Palestinians switch off Christmas lights in Be...</td>\n",
              "    </tr>\n",
              "    <tr>\n",
              "      <th>1</th>\n",
              "      <td>1</td>\n",
              "      <td>China says Trump call with Taiwan president wo...</td>\n",
              "    </tr>\n",
              "    <tr>\n",
              "      <th>2</th>\n",
              "      <td>0</td>\n",
              "      <td>FAIL The Trump Organizations Credit Score Wil...</td>\n",
              "    </tr>\n",
              "    <tr>\n",
              "      <th>3</th>\n",
              "      <td>1</td>\n",
              "      <td>Zimbabwe military chiefs China trip was normal...</td>\n",
              "    </tr>\n",
              "    <tr>\n",
              "      <th>4</th>\n",
              "      <td>0</td>\n",
              "      <td>THE MOST UNCOURAGEOUS PRESIDENT EVER Receives ...</td>\n",
              "    </tr>\n",
              "    <tr>\n",
              "      <th>...</th>\n",
              "      <td>...</td>\n",
              "      <td>...</td>\n",
              "    </tr>\n",
              "    <tr>\n",
              "      <th>24348</th>\n",
              "      <td>1</td>\n",
              "      <td>Mexico Senate committee OKs air transport deal...</td>\n",
              "    </tr>\n",
              "    <tr>\n",
              "      <th>24349</th>\n",
              "      <td>0</td>\n",
              "      <td>BREAKING HILLARY CLINTONS STATE DEPARTMENT GAV...</td>\n",
              "    </tr>\n",
              "    <tr>\n",
              "      <th>24350</th>\n",
              "      <td>0</td>\n",
              "      <td>trump breaks from stump speech to admire beaut...</td>\n",
              "    </tr>\n",
              "    <tr>\n",
              "      <th>24351</th>\n",
              "      <td>0</td>\n",
              "      <td>NFL PLAYER Delivers Courageous Message Stop Bl...</td>\n",
              "    </tr>\n",
              "    <tr>\n",
              "      <th>24352</th>\n",
              "      <td>0</td>\n",
              "      <td>NORDSTROM STOCK TAKES NOSEDIVE After Trump Twe...</td>\n",
              "    </tr>\n",
              "  </tbody>\n",
              "</table>\n",
              "<p>24353 rows × 2 columns</p>\n",
              "</div>\n",
              "    <div class=\"colab-df-buttons\">\n",
              "\n",
              "  <div class=\"colab-df-container\">\n",
              "    <button class=\"colab-df-convert\" onclick=\"convertToInteractive('df-222fd376-98b3-4141-ba54-583883cca4eb')\"\n",
              "            title=\"Convert this dataframe to an interactive table.\"\n",
              "            style=\"display:none;\">\n",
              "\n",
              "  <svg xmlns=\"http://www.w3.org/2000/svg\" height=\"24px\" viewBox=\"0 -960 960 960\">\n",
              "    <path d=\"M120-120v-720h720v720H120Zm60-500h600v-160H180v160Zm220 220h160v-160H400v160Zm0 220h160v-160H400v160ZM180-400h160v-160H180v160Zm440 0h160v-160H620v160ZM180-180h160v-160H180v160Zm440 0h160v-160H620v160Z\"/>\n",
              "  </svg>\n",
              "    </button>\n",
              "\n",
              "  <style>\n",
              "    .colab-df-container {\n",
              "      display:flex;\n",
              "      gap: 12px;\n",
              "    }\n",
              "\n",
              "    .colab-df-convert {\n",
              "      background-color: #E8F0FE;\n",
              "      border: none;\n",
              "      border-radius: 50%;\n",
              "      cursor: pointer;\n",
              "      display: none;\n",
              "      fill: #1967D2;\n",
              "      height: 32px;\n",
              "      padding: 0 0 0 0;\n",
              "      width: 32px;\n",
              "    }\n",
              "\n",
              "    .colab-df-convert:hover {\n",
              "      background-color: #E2EBFA;\n",
              "      box-shadow: 0px 1px 2px rgba(60, 64, 67, 0.3), 0px 1px 3px 1px rgba(60, 64, 67, 0.15);\n",
              "      fill: #174EA6;\n",
              "    }\n",
              "\n",
              "    .colab-df-buttons div {\n",
              "      margin-bottom: 4px;\n",
              "    }\n",
              "\n",
              "    [theme=dark] .colab-df-convert {\n",
              "      background-color: #3B4455;\n",
              "      fill: #D2E3FC;\n",
              "    }\n",
              "\n",
              "    [theme=dark] .colab-df-convert:hover {\n",
              "      background-color: #434B5C;\n",
              "      box-shadow: 0px 1px 3px 1px rgba(0, 0, 0, 0.15);\n",
              "      filter: drop-shadow(0px 1px 2px rgba(0, 0, 0, 0.3));\n",
              "      fill: #FFFFFF;\n",
              "    }\n",
              "  </style>\n",
              "\n",
              "    <script>\n",
              "      const buttonEl =\n",
              "        document.querySelector('#df-222fd376-98b3-4141-ba54-583883cca4eb button.colab-df-convert');\n",
              "      buttonEl.style.display =\n",
              "        google.colab.kernel.accessAllowed ? 'block' : 'none';\n",
              "\n",
              "      async function convertToInteractive(key) {\n",
              "        const element = document.querySelector('#df-222fd376-98b3-4141-ba54-583883cca4eb');\n",
              "        const dataTable =\n",
              "          await google.colab.kernel.invokeFunction('convertToInteractive',\n",
              "                                                    [key], {});\n",
              "        if (!dataTable) return;\n",
              "\n",
              "        const docLinkHtml = 'Like what you see? Visit the ' +\n",
              "          '<a target=\"_blank\" href=https://colab.research.google.com/notebooks/data_table.ipynb>data table notebook</a>'\n",
              "          + ' to learn more about interactive tables.';\n",
              "        element.innerHTML = '';\n",
              "        dataTable['output_type'] = 'display_data';\n",
              "        await google.colab.output.renderOutput(dataTable, element);\n",
              "        const docLink = document.createElement('div');\n",
              "        docLink.innerHTML = docLinkHtml;\n",
              "        element.appendChild(docLink);\n",
              "      }\n",
              "    </script>\n",
              "  </div>\n",
              "\n",
              "\n",
              "<div id=\"df-3c5db8fe-cb44-4598-bc30-c92d6cf6bf07\">\n",
              "  <button class=\"colab-df-quickchart\" onclick=\"quickchart('df-3c5db8fe-cb44-4598-bc30-c92d6cf6bf07')\"\n",
              "            title=\"Suggest charts\"\n",
              "            style=\"display:none;\">\n",
              "\n",
              "<svg xmlns=\"http://www.w3.org/2000/svg\" height=\"24px\"viewBox=\"0 0 24 24\"\n",
              "     width=\"24px\">\n",
              "    <g>\n",
              "        <path d=\"M19 3H5c-1.1 0-2 .9-2 2v14c0 1.1.9 2 2 2h14c1.1 0 2-.9 2-2V5c0-1.1-.9-2-2-2zM9 17H7v-7h2v7zm4 0h-2V7h2v10zm4 0h-2v-4h2v4z\"/>\n",
              "    </g>\n",
              "</svg>\n",
              "  </button>\n",
              "\n",
              "<style>\n",
              "  .colab-df-quickchart {\n",
              "      --bg-color: #E8F0FE;\n",
              "      --fill-color: #1967D2;\n",
              "      --hover-bg-color: #E2EBFA;\n",
              "      --hover-fill-color: #174EA6;\n",
              "      --disabled-fill-color: #AAA;\n",
              "      --disabled-bg-color: #DDD;\n",
              "  }\n",
              "\n",
              "  [theme=dark] .colab-df-quickchart {\n",
              "      --bg-color: #3B4455;\n",
              "      --fill-color: #D2E3FC;\n",
              "      --hover-bg-color: #434B5C;\n",
              "      --hover-fill-color: #FFFFFF;\n",
              "      --disabled-bg-color: #3B4455;\n",
              "      --disabled-fill-color: #666;\n",
              "  }\n",
              "\n",
              "  .colab-df-quickchart {\n",
              "    background-color: var(--bg-color);\n",
              "    border: none;\n",
              "    border-radius: 50%;\n",
              "    cursor: pointer;\n",
              "    display: none;\n",
              "    fill: var(--fill-color);\n",
              "    height: 32px;\n",
              "    padding: 0;\n",
              "    width: 32px;\n",
              "  }\n",
              "\n",
              "  .colab-df-quickchart:hover {\n",
              "    background-color: var(--hover-bg-color);\n",
              "    box-shadow: 0 1px 2px rgba(60, 64, 67, 0.3), 0 1px 3px 1px rgba(60, 64, 67, 0.15);\n",
              "    fill: var(--button-hover-fill-color);\n",
              "  }\n",
              "\n",
              "  .colab-df-quickchart-complete:disabled,\n",
              "  .colab-df-quickchart-complete:disabled:hover {\n",
              "    background-color: var(--disabled-bg-color);\n",
              "    fill: var(--disabled-fill-color);\n",
              "    box-shadow: none;\n",
              "  }\n",
              "\n",
              "  .colab-df-spinner {\n",
              "    border: 2px solid var(--fill-color);\n",
              "    border-color: transparent;\n",
              "    border-bottom-color: var(--fill-color);\n",
              "    animation:\n",
              "      spin 1s steps(1) infinite;\n",
              "  }\n",
              "\n",
              "  @keyframes spin {\n",
              "    0% {\n",
              "      border-color: transparent;\n",
              "      border-bottom-color: var(--fill-color);\n",
              "      border-left-color: var(--fill-color);\n",
              "    }\n",
              "    20% {\n",
              "      border-color: transparent;\n",
              "      border-left-color: var(--fill-color);\n",
              "      border-top-color: var(--fill-color);\n",
              "    }\n",
              "    30% {\n",
              "      border-color: transparent;\n",
              "      border-left-color: var(--fill-color);\n",
              "      border-top-color: var(--fill-color);\n",
              "      border-right-color: var(--fill-color);\n",
              "    }\n",
              "    40% {\n",
              "      border-color: transparent;\n",
              "      border-right-color: var(--fill-color);\n",
              "      border-top-color: var(--fill-color);\n",
              "    }\n",
              "    60% {\n",
              "      border-color: transparent;\n",
              "      border-right-color: var(--fill-color);\n",
              "    }\n",
              "    80% {\n",
              "      border-color: transparent;\n",
              "      border-right-color: var(--fill-color);\n",
              "      border-bottom-color: var(--fill-color);\n",
              "    }\n",
              "    90% {\n",
              "      border-color: transparent;\n",
              "      border-bottom-color: var(--fill-color);\n",
              "    }\n",
              "  }\n",
              "</style>\n",
              "\n",
              "  <script>\n",
              "    async function quickchart(key) {\n",
              "      const quickchartButtonEl =\n",
              "        document.querySelector('#' + key + ' button');\n",
              "      quickchartButtonEl.disabled = true;  // To prevent multiple clicks.\n",
              "      quickchartButtonEl.classList.add('colab-df-spinner');\n",
              "      try {\n",
              "        const charts = await google.colab.kernel.invokeFunction(\n",
              "            'suggestCharts', [key], {});\n",
              "      } catch (error) {\n",
              "        console.error('Error during call to suggestCharts:', error);\n",
              "      }\n",
              "      quickchartButtonEl.classList.remove('colab-df-spinner');\n",
              "      quickchartButtonEl.classList.add('colab-df-quickchart-complete');\n",
              "    }\n",
              "    (() => {\n",
              "      let quickchartButtonEl =\n",
              "        document.querySelector('#df-3c5db8fe-cb44-4598-bc30-c92d6cf6bf07 button');\n",
              "      quickchartButtonEl.style.display =\n",
              "        google.colab.kernel.accessAllowed ? 'block' : 'none';\n",
              "    })();\n",
              "  </script>\n",
              "</div>\n",
              "\n",
              "  <div id=\"id_dfa1ffc7-fc4a-4351-98cf-0514a8e26ed0\">\n",
              "    <style>\n",
              "      .colab-df-generate {\n",
              "        background-color: #E8F0FE;\n",
              "        border: none;\n",
              "        border-radius: 50%;\n",
              "        cursor: pointer;\n",
              "        display: none;\n",
              "        fill: #1967D2;\n",
              "        height: 32px;\n",
              "        padding: 0 0 0 0;\n",
              "        width: 32px;\n",
              "      }\n",
              "\n",
              "      .colab-df-generate:hover {\n",
              "        background-color: #E2EBFA;\n",
              "        box-shadow: 0px 1px 2px rgba(60, 64, 67, 0.3), 0px 1px 3px 1px rgba(60, 64, 67, 0.15);\n",
              "        fill: #174EA6;\n",
              "      }\n",
              "\n",
              "      [theme=dark] .colab-df-generate {\n",
              "        background-color: #3B4455;\n",
              "        fill: #D2E3FC;\n",
              "      }\n",
              "\n",
              "      [theme=dark] .colab-df-generate:hover {\n",
              "        background-color: #434B5C;\n",
              "        box-shadow: 0px 1px 3px 1px rgba(0, 0, 0, 0.15);\n",
              "        filter: drop-shadow(0px 1px 2px rgba(0, 0, 0, 0.3));\n",
              "        fill: #FFFFFF;\n",
              "      }\n",
              "    </style>\n",
              "    <button class=\"colab-df-generate\" onclick=\"generateWithVariable('df')\"\n",
              "            title=\"Generate code using this dataframe.\"\n",
              "            style=\"display:none;\">\n",
              "\n",
              "  <svg xmlns=\"http://www.w3.org/2000/svg\" height=\"24px\"viewBox=\"0 0 24 24\"\n",
              "       width=\"24px\">\n",
              "    <path d=\"M7,19H8.4L18.45,9,17,7.55,7,17.6ZM5,21V16.75L18.45,3.32a2,2,0,0,1,2.83,0l1.4,1.43a1.91,1.91,0,0,1,.58,1.4,1.91,1.91,0,0,1-.58,1.4L9.25,21ZM18.45,9,17,7.55Zm-12,3A5.31,5.31,0,0,0,4.9,8.1,5.31,5.31,0,0,0,1,6.5,5.31,5.31,0,0,0,4.9,4.9,5.31,5.31,0,0,0,6.5,1,5.31,5.31,0,0,0,8.1,4.9,5.31,5.31,0,0,0,12,6.5,5.46,5.46,0,0,0,6.5,12Z\"/>\n",
              "  </svg>\n",
              "    </button>\n",
              "    <script>\n",
              "      (() => {\n",
              "      const buttonEl =\n",
              "        document.querySelector('#id_dfa1ffc7-fc4a-4351-98cf-0514a8e26ed0 button.colab-df-generate');\n",
              "      buttonEl.style.display =\n",
              "        google.colab.kernel.accessAllowed ? 'block' : 'none';\n",
              "\n",
              "      buttonEl.onclick = () => {\n",
              "        google.colab.notebook.generateWithVariable('df');\n",
              "      }\n",
              "      })();\n",
              "    </script>\n",
              "  </div>\n",
              "\n",
              "    </div>\n",
              "  </div>\n"
            ],
            "application/vnd.google.colaboratory.intrinsic+json": {
              "type": "dataframe",
              "variable_name": "df",
              "summary": "{\n  \"name\": \"df\",\n  \"rows\": 24353,\n  \"fields\": [\n    {\n      \"column\": \"label\",\n      \"properties\": {\n        \"dtype\": \"number\",\n        \"std\": 0,\n        \"min\": 0,\n        \"max\": 1,\n        \"num_unique_values\": 2,\n        \"samples\": [\n          0,\n          1\n        ],\n        \"semantic_type\": \"\",\n        \"description\": \"\"\n      }\n    },\n    {\n      \"column\": \"info\",\n      \"properties\": {\n        \"dtype\": \"string\",\n        \"num_unique_values\": 24352,\n        \"samples\": [\n          \"First Open Lesbian Bishop Wants To Add Muslim Prayer Room And Remove All Crosses From ChurchHeres Why Wake up Christians the left won t stop until they ve removed any mention of Christ in your church The Bishop of Stockholm has proposed a church in her diocese remove all signs of the cross and put down markings showing the direction to Mecca for the benefit of Muslim worshippersEva Brunne who was made the world s first openly lesbian bishop by the church of Sweden in 2009 and has a young son with her wife and fellow lesbian priest Gunilla Linden made the suggestion to make those of other faiths more welcomeThe church targeted is the Seamen s mission church in Stockholm s eastern dockyards The Bishop held a meeting there this year and challenged the priest to explain what he d do if a ship s crew came into port who weren t Christian but wanted to prayCalling Muslim guests to the church  angels  the Bishop later took to her official blog to explain that removing Christian symbols from the church and preparing the building for Muslim prayer doesn t make a priest any less a defender of the faith Rather to do any less would make one  stingy towards people of other faiths The bishop insisted this wasn t an issue after all airports and hospitals already had multifaith prayer rooms and converting the dockyard church would only bring it up to speed Regardless the announcement has aroused protestFather Patrik Pettersson one of the priests in her diocese and active in the same parish as the Seaman s mission church has hit back in a blog of his own complaining there is no way you could equate a consecrated church with a prayer room remarking  I should have thought a bishop would be able to tell the difference Calling the bishop s words  theologically unthinking  he asked what was to be done with crucifixes screwed to the walls and heavy items such as baptismal fonts Ignoring the rhetorical murmuring  Pettersson wrote  The only argument bishop Eva really put forward in support of her view is  hospitality  How do you respond to that Not much of a basis for discussion as one colleague put it The theological ecclesiological pastoral and working issues are left untouched Via Breitbart News\",\n          \"OBAMA RELEASES TOP IRANIAN SCIENTISTLEAVES 4 AMERICANS TO FEND FOR THEMSELVES IN IRANIAN PRISONS As Part Of Nuke Deal On Wednesday Barack Obama lashed out at CBS reporter Major Garrett after he asked him about the four Americans left behind to languish in Iranian prisonsFormer Marine Amir Hekmati Saeed Abedini and Vahid Salemi are being held in Iranian prisons BreitbartObama was defending his nuclear deal with Iran when Garrett asked him about the US hostages in IranhttpsyoutuberqdVAd25CHUObama I got to give you credit Major for how you craft those questions the notion that I m content as I celebrate with American citizens languishing in Iranian jails   Major that s nonsense and you should know betterOf course that is exactly what he did The Obama administration did nothing to free American hostages during their talks with the Iranian regimeNow we know  Obama released a top Iranian scientist as part of the deal but left the Americans to rot in hell in Iranian prisons The Times of Israel reportedMojtaba Atarodi arrested in California for attempting to acquire equipment for Iran s militarynuclear programs was released in April as part of back channel talks Times of Israel told The contacts mediated in Oman for years by close colleague of the Sultan have seen a series of USIran prisoner releases and there may be more to comeThe secret back channel of negotiations between Iran and the United States which led to this month s interim deal in Geneva on Iran s rogue nuclear program has also seen a series of prisoner releases by both sides which have played a central role in bridging the distance between the two nations the Times of Israel has been toldIn the most dramatic of those releases the US in April released a top Iranian scientist Mojtaba Atarodi who had been arrested in 2011 for attempting to acquire equipment that could be used for Iran s militarynuclear programsNo wonder he didn t want reporters talking about itVia Gateway Pundit\"\n        ],\n        \"semantic_type\": \"\",\n        \"description\": \"\"\n      }\n    }\n  ]\n}"
            }
          },
          "metadata": {}
        }
      ]
    },
    {
      "cell_type": "code",
      "source": [
        "vectorizer = TfidfVectorizer(stop_words = 'english', max_features = 5000) #Remove stop words\n",
        "X = vectorizer.fit_transform(df['info']) # Fit and transform the text data into a TF-IDF matrix\n",
        "y = df['label']\n",
        "print(X.shape, y.shape)"
      ],
      "metadata": {
        "colab": {
          "base_uri": "https://localhost:8080/"
        },
        "id": "IZFKw1x0tKxr",
        "outputId": "8b7312cb-82c9-4bd4-97dc-408f00bbd773"
      },
      "execution_count": null,
      "outputs": [
        {
          "output_type": "stream",
          "name": "stdout",
          "text": [
            "(24353, 5000) (24353,)\n"
          ]
        }
      ]
    },
    {
      "cell_type": "code",
      "source": [
        "# Initialize models\n",
        "lr = LogisticRegression(solver='liblinear')\n",
        "kfold = KFold(n_splits=20, shuffle=True, random_state=42)"
      ],
      "metadata": {
        "id": "k8ijFRVQtkY0"
      },
      "execution_count": null,
      "outputs": []
    },
    {
      "cell_type": "markdown",
      "source": [
        "##Logistic Regression"
      ],
      "metadata": {
        "id": "ea1is9Yltkts"
      }
    },
    {
      "cell_type": "code",
      "source": [
        "# Initialize variables to keep track of the best score and corresponding model\n",
        "best_score = 0\n",
        "best_model = None\n",
        "\n",
        "# Loop through each fold in K-Fold cross-validation\n",
        "for train_index, test_index in kfold.split(X):\n",
        "\n",
        "    # Split the data into training and testing sets based on the current fold\n",
        "    X_train, X_test = X[train_index], X[test_index]\n",
        "    y_train, y_test = y[train_index], y[test_index]\n",
        "\n",
        "    # Create a logistic regression model using the 'liblinear' solver\n",
        "    model_lr = LogisticRegression(solver='liblinear')\n",
        "\n",
        "    # Train the model on the training set\n",
        "    model_lr.fit(X_train, y_train)\n",
        "\n",
        "    # Make predictions on the test set\n",
        "    y_pred = model_lr.predict(X_test)\n",
        "\n",
        "    # Calculate the accuracy of the model on the test set\n",
        "    accuracy_lr = accuracy_score(y_test, y_pred)\n",
        "\n",
        "    if accuracy_lr > best_score:\n",
        "        best_score = accuracy_lr\n",
        "        best_model = model_lr\n",
        "\n",
        "print(f\"Best Accuracy: {best_score:.3f}\")"
      ],
      "metadata": {
        "colab": {
          "base_uri": "https://localhost:8080/"
        },
        "id": "RumSLJgUt3NV",
        "outputId": "69eacce3-bc7b-4bae-90b1-9fd5e5779c73"
      },
      "execution_count": null,
      "outputs": [
        {
          "output_type": "stream",
          "name": "stdout",
          "text": [
            "Best Accuracy: 0.975\n"
          ]
        }
      ]
    },
    {
      "cell_type": "code",
      "source": [
        "def predict_user_input(user_input):\n",
        "    # Remove punctuation from the user's input using regular expressions\n",
        "    user_input = re.sub(r'[^\\w\\s]', '', user_input)\n",
        "\n",
        "    # Transform the cleaned input into the same vectorized format used for training\n",
        "    user_input_vectorized = vectorizer.transform([user_input])\n",
        "\n",
        "    # Use the trained best model to make a prediction\n",
        "    prediction = best_model.predict(user_input_vectorized)\n",
        "\n",
        "    # Return the corresponding label based on the prediction result\n",
        "    return \"Real News\" if prediction[0] == 0 else \"Fake News\""
      ],
      "metadata": {
        "id": "F-Eg42Ku1J0n"
      },
      "execution_count": null,
      "outputs": []
    },
    {
      "cell_type": "code",
      "source": [
        "# Prompt the user to enter a review (e.g., a news headline or article snippet)\n",
        "user_input = input(\"Enter a review: \")\n",
        "\n",
        "# Pass the user's input to the prediction function and print the result (\"Real News\" or \"Fake News\")\n",
        "print(predict_user_input(user_input))"
      ],
      "metadata": {
        "colab": {
          "base_uri": "https://localhost:8080/"
        },
        "id": "5-uPc2_01LgY",
        "outputId": "2828b3c7-1ac8-4ebc-d6b0-d0ca3765ffa9"
      },
      "execution_count": null,
      "outputs": [
        {
          "output_type": "stream",
          "name": "stdout",
          "text": [
            "Enter a review: he said she said\n",
            "Fake af\n"
          ]
        }
      ]
    },
    {
      "cell_type": "markdown",
      "source": [
        "#KNN"
      ],
      "metadata": {
        "id": "HU4PSdngtnGr"
      }
    },
    {
      "cell_type": "code",
      "source": [
        "knn = KNeighborsClassifier(n_neighbors=5)\n",
        "kfold = KFold(n_splits=10, shuffle=True, random_state=40)\n",
        "scores = cross_val_score(knn, X, y, cv=kfold)\n",
        "print(f\"Accuracy scores for each fold: {scores}\")\n",
        "print(f\"Mean accuracy across all folds: {np.mean(scores)}\")\n",
        "print(\"Best accuracy (highest performing fold):\", scores.max())"
      ],
      "metadata": {
        "colab": {
          "base_uri": "https://localhost:8080/"
        },
        "id": "Njyx7EAOtoWE",
        "outputId": "09af8fe9-fa0c-4f13-bfd8-b4459a64525d"
      },
      "execution_count": null,
      "outputs": [
        {
          "output_type": "stream",
          "name": "stdout",
          "text": [
            "Accuracy scores for each fold: [0.636289   0.64860427 0.63259442 0.84804928 0.64435318 0.86119097\n",
            " 0.64558522 0.86324435 0.6386037  0.64517454]\n",
            "Mean accuracy across all folds: 0.7063688916761917\n",
            "Best accuracy (highest performing fold): 0.8632443531827515\n"
          ]
        }
      ]
    },
    {
      "cell_type": "code",
      "source": [
        "# Initialize variables to keep track of the best score and corresponding model\n",
        "best_score = 0\n",
        "best_model = None\n",
        "\n",
        "# Loop through each fold in K-Fold cross-validation\n",
        "for train_index, test_index in kfold.split(X):\n",
        "\n",
        "    # Split the data into training and testing sets based on the current fold\n",
        "    X_train, X_test = X[train_index], X[test_index]\n",
        "    y_train, y_test = y[train_index], y[test_index]\n",
        "\n",
        "    # Create a knn classifier model with a n_neighbors of 5\n",
        "    model_knn = KNeighborsClassifier(n_neighbors=5)\n",
        "\n",
        "    # Train the model on the training set\n",
        "    model_knn.fit(X_train, y_train)\n",
        "\n",
        "    # Make predictions on the test set\n",
        "    y_pred = model_knn.predict(X_test)\n",
        "\n",
        "    # Calculate the accuracy of the model on the test set\n",
        "    accuracy_knn = accuracy_score(y_test, y_pred)\n",
        "\n",
        "    if accuracy_knn > best_score:\n",
        "        best_score = accuracy_knn\n",
        "        best_model = model_knn\n",
        "\n",
        "print(f\"Best Accuracy: {best_score:.3f}\")"
      ],
      "metadata": {
        "id": "pYl3YmCCuL3p",
        "colab": {
          "base_uri": "https://localhost:8080/"
        },
        "outputId": "1841f05d-943f-41e3-c3ee-3a3e4a7f8f4e"
      },
      "execution_count": null,
      "outputs": [
        {
          "output_type": "stream",
          "name": "stdout",
          "text": [
            "Best Accuracy: 0.863\n"
          ]
        }
      ]
    },
    {
      "cell_type": "code",
      "source": [
        "def predict_user_input(user_input):\n",
        "    # Remove punctuation from the user's input using regular expressions\n",
        "    user_input = re.sub(r'[^\\w\\s]', '', user_input)\n",
        "\n",
        "    # Transform the cleaned input into the same vectorized format used for training\n",
        "    user_input_vectorized = vectorizer.transform([user_input])\n",
        "\n",
        "    # Use the trained best model to make a prediction\n",
        "    prediction = best_model.predict(user_input_vectorized)\n",
        "\n",
        "    # Return the corresponding label based on the prediction result\n",
        "    return \"Real News\" if prediction[0] == 0 else \"Fake News\""
      ],
      "metadata": {
        "id": "MMsxPQgM1OM5"
      },
      "execution_count": null,
      "outputs": []
    },
    {
      "cell_type": "code",
      "source": [
        "# Prompt the user to enter a review (e.g., a news headline or article snippet)\n",
        "user_input = input(\"Enter a review: \")\n",
        "\n",
        "# Pass the user's input to the prediction function and print the result (\"Real News\" or \"Fake News\")\n",
        "print(predict_user_input(user_input))"
      ],
      "metadata": {
        "colab": {
          "base_uri": "https://localhost:8080/"
        },
        "id": "FY8bXxBQ1PZP",
        "outputId": "7cee4d6a-56be-453c-fc9b-1e1a0377943d"
      },
      "execution_count": null,
      "outputs": [
        {
          "output_type": "stream",
          "name": "stdout",
          "text": [
            "Enter a review: Ice cream yummy, ice cream good!\n",
            "FrFr\n"
          ]
        }
      ]
    }
  ]
}